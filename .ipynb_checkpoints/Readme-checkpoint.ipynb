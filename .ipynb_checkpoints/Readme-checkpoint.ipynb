{
 "cells": [
  {
   "cell_type": "markdown",
   "metadata": {},
   "source": [
    "# Phase 5 Project - Fast Tracking Media Intelligence\n",
    "\n",
    "\n",
    "## Natural Language Processing Model for Text Summarization of CNN Daily News articles\n",
    "\n",
    "Name: Andrew Levinton\n",
    "Student Pace: Self Pace\n",
    "Instructor name: Ahbhineet Kukarni"
   ]
  },
  {
   "cell_type": "markdown",
   "metadata": {},
   "source": [
    "# Business Problem\n",
    "\n",
    "In this study, we will be analyzing CNN-Daily Mail News Articles. Many companies want to keep track of the latest news trends and reading full length articles can be incredibly time consuming. With the way news headlines affect major business decisions such as legal matters and stock prices, its important that readers are able to obtain all the information and reasoning behind the purpose of these articles and many of them can have a large number of distractors. It's essential that companies that get this information have the ability to quickly analyze these articles and develop counter intel or reports of their own in order to stay current and relevant with today's media. In this study we take the first steps towards utilizing text summarization to fast track the information gathering and counter-reporting process. \n"
   ]
  },
  {
   "cell_type": "markdown",
   "metadata": {},
   "source": [
    "![daily_mail](./images/dailymail_cover.jpg)"
   ]
  },
  {
   "cell_type": "markdown",
   "metadata": {},
   "source": [
    "# Business Understanding\n",
    "\n",
    "## Description:\n",
    "\n",
    "In today's information age, staying updated with news and information is crucial for both individuals and businesses. However, the sheer volume of news articles published daily can be overwhelming. Reading and processing these articles is time-consuming, especially when trying to gather insights from multiple sources.\n",
    "\n",
    "To address this challenge, we propose the development of a text summarization model using natural language processing (NLP) techniques. This model will automatically generate concise and coherent summaries of news articles. Here's how it can benefit the public and support business decisions:\n",
    "\n",
    "1. `Time Efficiency`: People often struggle to find the time to read lengthy news articles. Automated summarization allows individuals to quickly grasp the key points of an article, saving them time while keeping them informed.\n",
    "\n",
    "2. `Enhanced Understanding`: Summaries provide a condensed version of the article, making complex topics more accessible to a wider audience. This can help people better understand important news and events.\n",
    "\n",
    "3. `Multi-source Insights`: Readers can efficiently scan summaries from multiple sources to get a well-rounded view of a topic, fostering critical thinking and a broader perspective.\n",
    "\n",
    "4. `Competitive Intelligence`: Businesses can use automated summarization to track news and developments in their industry, enabling them to stay ahead of competitors and adapt to market changes more effectively.\n",
    "\n",
    "5. `Market Research`: Summarization can assist in analyzing customer sentiment, emerging trends, and competitor strategies by summarizing customer reviews, news, and social media posts.\n",
    "\n",
    "6. `Content Curation`: Media companies and content aggregators can use summarization to curate content for their audience, improving user engagement and retention.\n",
    "\n",
    "\n",
    "### Goals of this study:\n",
    "\n",
    "1. Streamline and automate the understanding of complex news topics. \n",
    "2. Help track news developments to enhance market research.\n",
    "\n",
    "### Business Questions to consider:\n",
    "\n",
    "- What specific NLP techniques or models can be employed to automate the process of summarizing complex news articles effectively?\n",
    "- How can automation be leveraged to provide real-time updates on important news developments to users or clients?\n",
    "- Are there opportunities to use automation to personalize news content delivery based on individual user preferences and interests?\n",
    "- How can automated summarization and analysis be integrated into other tools or platforms, such as news aggregators or chatbots?\n",
    "- What are the critical news sources, categories, or keywords that have the most significant impact on market trends and consumer sentiment?\n",
    "\n",
    "We will be using the CNN-Daily Mail News dataset to conduct our study. You can download the dataset from [here](https://www.kaggle.com/datasets/gowrishankarp/newspaper-text-summarization-cnn-dailymail)"
   ]
  },
  {
   "cell_type": "markdown",
   "metadata": {},
   "source": [
    "# I. Data Understanding\n",
    "The CNN / DailyMail Dataset is an English-language dataset containing just over 300k unique news articles as written by journalists at CNN and the Daily Mail. The current version supports both extractive and abstractive summarization, though the original version was created for machine reading and comprehension and abstractive question answering.\n",
    "\n",
    "The columns of the dataframe are:\n",
    "1. `ID`- Unique ID of the article\n",
    "2. `article` - The raw content of the article\n",
    "3. `Highlights` - A summary of the article"
   ]
  },
  {
   "cell_type": "markdown",
   "metadata": {},
   "source": [
    "# Preview of dataframe"
   ]
  },
  {
   "cell_type": "markdown",
   "metadata": {},
   "source": [
    "![preview](./images/preview_of_dataframe.png)"
   ]
  },
  {
   "cell_type": "markdown",
   "metadata": {},
   "source": [
    "## Sample Article and reference summary\n",
    "\n",
    "### Article:\n",
    "\"Cristiano Ronaldo and Lionel Messi will go head-to-head once more in the race to be this season's top scorer in the Champions League – although Luiz Adriano threatens to spoil the party. Both Barcelona and Real Madrid booked their spots in the semi-finals this week with victories over Paris Saint-Germain and Atletico Madrid respectively. The planet's best footballers have scored eight times in Europe this season. But Shakhtar Donetsk’s Adriano, courted by Arsenal and Liverpool, has netted on nine occasions this term. Cristiano Ronaldo, in action against Atletico Madrid on Wednesday evening, has scored eight goals in Europe . Lionel Messi also has eight goals in the Champions League this term; one fewer than Luiz Adriano . Ronaldo and Messi will both play at least two more times after Real Madrid and Barcelona reached the last four . Adriano, who moved to Donetsk in 2007, scored five against BATE Borsiov in the group stages. His performance that night made history, with the 27-year-old becoming only the second player to score five times in a Champions League game. The other was Messi for Barcelona against Bayer Leverkusen in 2012. He also scored the third quickest hat-trick in the competition's history (12 minutes) as the Ukrainian side, knocked out by Bayern Munich in the round of 16, racked up the biggest-ever half-time lead (6-0) in Europe's premier tournament. ‘I am in a good moment of my career and we'll do what will be best for me and for the club,’ said Adriano last month when quizzed over his future. Adriano, who netted five times against BATE Borisov in the group, has scored more goals than any other player in the Champions League... he is out of contract in December and could move to the Premier League . ‘With my contract set to expire and many good performances, it'll be difficult to stay in Ukraine.’ Arsenal have sent scouts to watch Adriano in recent months, while Liverpool are also keen on the Brazilian. His contract with Shakhtar Donetsk runs out at the end of the year. Ronaldo and Messi however, remain in pole-position to top the scoring charts with Barcelona and Real Madrid both in the hat for the two-legged semi-finals to be played next month. Of the teams still in the pot, Neymar and Luis Suarez of Barcelona, Real Madrid's Karim Benzema and former Manchester United and City striker Carlos Tevez, now plying his trade for Juventus, each have six goals. The draw for the last four will take place on Friday.\"\n",
    "\n",
    "### Reference Summary:\n",
    "\n",
    "\"Luiz Adriano scored nine times for Shakhtar Donetsk in Europe this season .\\nThe Brazilian is out of contract at the end of the year... both Arsenal and Liverpool are interested in signing the 27-year-old .\\nCristiano Ronaldo and Lionel Messi have netted eight goals this season .\\nReal Madrid and Barcelona both in the Champions League semi-finals .\\nREAD: Our reporters have their say on who will win the Champions League .\\nCLICK HERE for Sportsmail's guide to the Champions League final four .\"\n"
   ]
  },
  {
   "cell_type": "markdown",
   "metadata": {},
   "source": [
    "-The reference summary provided for the sample article appears to be a good representation of the article from a business case perspective for a text summarization model **aiming to extract key information from news articles**. Here's why its a good benchmark for achievement of our model:\n",
    "\n",
    "- `Key Information Extraction`: The reference summary effectively extracts and condenses the most important information from the article. It mentions the number of goals scored by Luiz Adriano and the interest from Arsenal and Liverpool. It also highlights the goal tally of Cristiano Ronaldo and Lionel Messi, as well as the fact that both Real Madrid and Barcelona are in the Champions League semi-finals. This information encapsulates the main points of interest in the article.\n",
    "\n",
    "- `Conciseness`: The reference summary is concise and to the point. It does not contain unnecessary details or filler content, which is crucial for generating news feed content and trends analysis where brevity is key.\n",
    "\n",
    "- `Relevance`: The reference summary includes information that is directly relevant to the business case, such as the goals scored, contract status, and the interest of major football clubs. This relevance is essential for providing valuable insights.\n",
    "\n",
    "- `Structure`: The summary is well-structured, with bullet points that make it easy to skim and understand the main points quickly. This is important for generating news feed content that needs to be quickly digestible.\n",
    "\n",
    "- `Clarity`: The language used in the reference summary is clear and easy to understand, ensuring that the extracted information is accessible to a broad audience."
   ]
  },
  {
   "cell_type": "markdown",
   "metadata": {},
   "source": [
    "# Understanding the distribution of the sequences\n",
    "Here, we will analyze the length of the reviews and the summary to get an overall idea about the distribution of length of the text. This will help us fix the maximum length of the sequence:"
   ]
  },
  {
   "cell_type": "markdown",
   "metadata": {},
   "source": [
    "![word_count](./images/word_count_dist.png)"
   ]
  },
  {
   "cell_type": "markdown",
   "metadata": {},
   "source": [
    "The average token count for the articles and the highlights are provided below:\n",
    "\n",
    "\n",
    "\n",
    "| Feature      | Mean Token Count |\n",
    "|--------------|------------------|\n",
    "| Article      | 683              |\n",
    "| Highlights   | 55               |\n"
   ]
  },
  {
   "cell_type": "markdown",
   "metadata": {},
   "source": [
    "# III. Data Preparation\n",
    "\n",
    "Performing basic preprocessing steps is very important before we get to the model building part. Using messy and uncleaned text data is a potentially disastrous move. So in this step, we will drop all the unwanted symbols, characters, etc. from the text that do not affect the objective of our problem.\n",
    "\n",
    "Here is the dictionary that we will use for expanding the contractions:"
   ]
  },
  {
   "cell_type": "markdown",
   "metadata": {},
   "source": [
    "## Contraction Mapping\n",
    "A contraction mapping, also known as a \"contraction operator\" or \"contraction function,\" is a concept from mathematics, specifically in the field of functional analysis. In the context of text summarization, it's not directly used, but related concepts and techniques from mathematics and natural language processing can be applied to improve the quality of text summarization models.\n",
    "Contraction Mapping was utilized in our **2nd Iteration** of the modeling process, but not in this notebook. The concept of contraction mapping was used here just as a demonstration of how it was used in the actual model.\n",
    "\n",
    "### Here is a snapshot of what contraction mapping looks like:\n",
    "### {\"ain't\": \"is not\", \"aren't\": \"are not\",\"can't\": \"cannot\", \"'cause\": \"because\"}"
   ]
  },
  {
   "cell_type": "markdown",
   "metadata": {},
   "source": [
    "# Text Cleaning\n",
    "The following steps were taken to preprocess the data for each of our models:\n",
    "\n",
    "1. Convert everything to lowercase\n",
    "2. Remove HTML tags\n",
    "3. Contraction mapping\n",
    "4. Remove (‘s)\n",
    "5. Remove any text inside the parenthesis ( )\n",
    "6. Eliminate punctuations and special characters\n",
    "7. Remove stopwords\n",
    "8. Remove short words\n",
    "\n",
    "# Snapshot of cleaned text\n",
    "\n",
    "### **Before Cleaning**\n",
    "#### Ever noticed ~how~ plane seats appear ~to be~ getting smaller and smaller~?~ ~With~ increasing numbers ~of~ people taking ~to the~ skies~,~ ~some~ experts ~are~ questioning ~if having such~ packed ~out~ planes ~is~ putting passengers ~at~ risk~. They~ say ~that~ ~the~ shrinking space ~on~ aeroplanes ~is not only~ uncomfortable ~- it's~ putting ~our~ health ~and~ safety ~in~ danger~. More than~ squabbling over ~the~ arm rest~,~ shrinking space ~on~ planes putting ~our~ health ~and~ safety ~in~ danger~?~ This week~, a~ U.S consumer advisory group ~set up by the~ \n",
    "\n",
    "### **After Cleaning**\n",
    "#### ever noticed plane seats appear getting smaller smaller increasing numbers people taking skies experts questioning packed planes putting passengers risk say shrinking space aeroplanes uncomfortable putting health safety danger squabbling arm rest shrinking space planes putting health safety danger week consumer advisory group"
   ]
  },
  {
   "cell_type": "markdown",
   "metadata": {},
   "source": [
    "## Sample cleaned article\n",
    "\n",
    "#### Article:\n",
    "drunk teenage boy rescued security jumping lions enclosure zoo western india rahul kumar clambered enclosure fence kamla nehru zoological park ahmedabad began running towards animals shouting would kill mr kumar explained afterwards drunk thought would stand good chance predators next level drunk intoxicated rahul kumar climbed lions enclosure zoo ahmedabad began running towards animals shouting today kill lion mr kumar sitting near enclosure suddenly made dash lions surprising zoo security intoxicated teenager ran towards lions shouting today kill lion lion kills zoo spokesman said guards earlier spotted close enclosure idea planing enter fortunately eight moats cross getting lions usually fell second one allowing guards catch take handed police brave fool fortunately mr kumar fell moat ran towards lions could rescued zoo security staff reaching animals kumar later explained really know drunk thought would stand good chance police spokesman said cautioned sent psychiatric evaluation fortunately lions asleep zoo guards acted quickly enough prevent tragedy similar delhi last year year old man mauled death tiger indian capital climbing enclosure city zoo\n",
    "\n",
    "## Sample cleaned highlight\n",
    "\n",
    "experts question if packed out planes are putting passengers at risk consumer advisory group says minimum space must be stipulated safety tests conducted on planes with more leg room than airlines offer"
   ]
  },
  {
   "cell_type": "markdown",
   "metadata": {},
   "source": [
    "# N-grams: Articles"
   ]
  },
  {
   "cell_type": "markdown",
   "metadata": {},
   "source": [
    "![trigrams](./images/top_30_trigrams.png)\n",
    "\n",
    "\n",
    "As shown in the n-grams, we obtain a lot of good information about the articles. Here, we can see that the n-grams indicate that the articles cover topics such as Soccer, US politics and Current Events. "
   ]
  },
  {
   "cell_type": "markdown",
   "metadata": {},
   "source": [
    "# IV. Model building"
   ]
  },
  {
   "cell_type": "markdown",
   "metadata": {},
   "source": [
    "# Baseline - TFIDF Vectorizer \n",
    "\n",
    "[TFIDF](https://medium.com/@ashins1997/text-summarization-f2542bc6a167#:~:text=Sentence%20scoring%20using%20tf%2Didf,word%20occurs%20in%20the%20document.)\n",
    "\n",
    "### Sentence scoring using tf-idf is one of the extractive approaches for text summarization.\n",
    "\n",
    "`In TF-IDF (Term Frequency-Inverse Document Frequency)` text summarization, sentence scoring involves evaluating the importance of each sentence in a document. It does this by considering the frequency of words in the sentence (Term Frequency) and the uniqueness of those words across the entire document collection (Inverse Document Frequency). Sentences containing rare and important terms receive higher scores, making them more likely to be included in the summary. This aids in text summarization by selecting sentences that capture the key concepts and information, resulting in a concise and informative summary.\n",
    "- **TF-IDF stands for Term Frequency** — Inverse Document Frequency. It is the product of two statistics.\n",
    "\n",
    "- **Term Frequency (TF)** : It is the number of times the word occurs in the document.\n",
    "- **Inverse Document Frequency (IDF)** : It is the measure of how much information the word provides, i.e., if it’s common or rare across all documents."
   ]
  },
  {
   "cell_type": "markdown",
   "metadata": {},
   "source": [
    "# Sample Summary\n",
    "\n",
    "### Original Article: \n",
    "Cristiano Ronaldo and Lionel Messi will go head-to-head once more in the race to be this season's top scorer in the Champions League – although Luiz Adriano threatens to spoil the party. Both Barcelona and Real Madrid booked their spots in the semi-finals this week with victories over Paris Saint-Germain and Atletico Madrid respectively. The planet's best footballers have scored eight times in Europe this season. But Shakhtar Donetsk’s Adriano, courted by Arsenal and Liverpool, has netted on nine occasions this term. Cristiano Ronaldo, in action against Atletico Madrid on Wednesday evening, has scored eight goals in Europe . Lionel Messi also has eight goals in the Champions League this term; one fewer than Luiz Adriano . Ronaldo and Messi will both play at least two more times after Real Madrid and Barcelona reached the last four . Adriano, who moved to Donetsk in 2007, scored five against BATE Borsiov in the group stages. His performance that night made history, with the 27-year-old becoming only the second player to score five times in a Champions League game. The other was Messi for Barcelona against Bayer Leverkusen in 2012. He also scored the third quickest hat-trick in the competition's history (12 minutes) as the Ukrainian side, knocked out by Bayern Munich in the round of 16, racked up the biggest-ever half-time lead (6-0) in Europe's premier tournament. ‘I am in a good moment of my career and we'll do what will be best for me and for the club,’ said Adriano last month when quizzed over his future. Adriano, who netted five times against BATE Borisov in the group, has scored more goals than any other player in the Champions League... he is out of contract in December and could move to the Premier League . ‘With my contract set to expire and many good performances, it'll be difficult to stay in Ukraine.’ Arsenal have sent scouts to watch Adriano in recent months, while Liverpool are also keen on the Brazilian. His contract with Shakhtar Donetsk runs out at the end of the year. Ronaldo and Messi however, remain in pole-position to top the scoring charts with Barcelona and Real Madrid both in the hat for the two-legged semi-finals to be played next month. Of the teams still in the pot, Neymar and Luis Suarez of Barcelona, Real Madrid's Karim Benzema and former Manchester United and City striker Carlos Tevez, now plying his trade for Juventus, each have six goals. The draw for the last four will take place on Friday.\n",
    "\n",
    "\n",
    "\n",
    "### Predicted Summary: \n",
    "Cristiano Ronaldo and Lionel Messi will go head-to-head once more in the race to be this season's top scorer in the Champions League – although Luiz Adriano threatens to spoil the party. The planet's best footballers have scored eight times in Europe this season. Cristiano Ronaldo, in action against Atletico Madrid on Wednesday evening, has scored eight goals in Europe . Adriano, who moved to Donetsk in 2007, scored five against BATE Borsiov in the group stages. The other was Messi for Barcelona against Bayer Leverkusen in 2012. His contract with Shakhtar Donetsk runs out at the end of the year. The draw for the last four will take place on Friday. \n",
    "\n",
    "\n",
    "\n",
    "### Original Summary: \n",
    "Luiz Adriano scored nine times for Shakhtar Donetsk in Europe this season .\n",
    "The Brazilian is out of contract at the end of the year... both Arsenal and Liverpool are interested in signing the 27-year-old .\n",
    "Cristiano Ronaldo and Lionel Messi have netted eight goals this season .\n",
    "Real Madrid and Barcelona both in the Champions League semi-finals .\n",
    "READ: Our reporters have their say on who will win the Champions League .\n",
    "CLICK HERE for Sportsmail's guide to the Champions League final four ."
   ]
  },
  {
   "cell_type": "markdown",
   "metadata": {},
   "source": [
    "## Article was summarized from 18 sentences down to 7. "
   ]
  },
  {
   "cell_type": "markdown",
   "metadata": {},
   "source": [
    "## Model Evaluation - Rouge Score\n",
    "\n",
    "ROUGE (Recall-Oriented Understudy for Gisting Evaluation) is a set of metrics used for evaluating the quality of text summarization and machine translation. These metrics assess the similarity between the generated summary and one or more reference summaries (human-written) to measure the performance of automatic summarization systems. The primary focus of ROUGE metrics is on content overlap and the ability of a system to capture the essential information from the source text.\n",
    "\n"
   ]
  },
  {
   "cell_type": "markdown",
   "metadata": {},
   "source": [
    "# Rouge-l Recall\n",
    "ROUGE-L recall is a critical metric in text summarization evaluation because it places a strong emphasis on capturing the longest common subsequence between the generated summary and the reference summary. This is particularly valuable because it:\n",
    "\n",
    "- Assesses Content Overlap: ROUGE-L recall evaluates how well the generated summary captures the most important content from the reference summary. It ensures that the key information in the original text is retained in the summary.\n",
    "\n",
    "- Considers Sequencing: It takes into account the order in which words appear in the summaries. This means that not only should the same words be present, but they should also be arranged in a coherent and logical sequence.\n",
    "\n",
    "- Emphasizes Quality: ROUGE-L recall prioritizes the quality of the summary over its length. It encourages the generation of concise summaries that faithfully represent the source text's essential information.\n",
    "\n",
    "- Sensitive to Substantial Content: Longer common subsequences are more likely to represent significant content. ROUGE-L recall ensures that the most vital parts of the text are included in the summary, helping to maintain its informativeness.\n",
    "\n",
    "- Performance Assessment: In the context of summarization, evaluating recall is crucial because it measures how well the system remembers and includes critical information. This is a fundamental aspect of evaluating the overall effectiveness of a summary.\n",
    "\n",
    "In essence, ROUGE-L recall is a vital metric in text summarization as it assesses content fidelity, structure, and the ability to capture essential information, aligning well with the objectives of text summarization."
   ]
  },
  {
   "cell_type": "markdown",
   "metadata": {},
   "source": [
    "## Analysis - Recall\n",
    "Measures the proportion of relevant information that our summarization model successfully captures from the source articles and presents in the generated summaries. \n",
    "\n",
    "In our business case, a higher recall score indicates that our model is effective at retrieving and including important content from news articles in the summaries. \n",
    "\n",
    "\n",
    "This is crucial as it ensures that readers and businesses are well-informed and that the generated summaries are a valuable source of information.\n",
    "Interpretation:\n",
    "\n",
    "- ROUGE-L Recall Score (0.3002): The ROUGE-L Recall score of 0.3002 indicates that our summarization model captures approximately 30.02% of the content present in the reference \"highlights.\" This signifies that TFIDF model is fairly effective at recalling important content from the reference summaries.\n",
    "\n"
   ]
  },
  {
   "cell_type": "markdown",
   "metadata": {},
   "source": [
    "# Iteration 2 - Seq2Seq (Run in Google Colab)\n",
    "The next iteration of modeling that was deployed was an RNN Seq2Seq Model using google colab. The use of google colab was necessary due to the high RAM needs of running the model itself. Here is a description of the modeling process that was used in the notebook:\n",
    "\n",
    "### Attention Layer\n",
    "An attention layer is a critical component in modern neural network architectures, particularly in sequence-to-sequence models, and it plays a fundamental role in enhancing the model's ability to focus on specific parts of input data. Here's an explanation of the concept of an attention layer:\n",
    "\n",
    "1. Purpose of Attention: The primary purpose of an attention layer is to enable a neural network to \"pay attention\" to different parts of the input sequence when making predictions. It allows the model to assign varying degrees of importance or relevance to different elements in the input sequence.\n",
    "\n",
    "2. Sequences and Alignment: Attention layers are commonly used in tasks involving sequences, such as machine translation, text summarization, and speech recognition. When processing sequences, it's important to consider the alignment between the elements of the input and output sequences. The attention mechanism helps in aligning these sequences.\n",
    "\n",
    "3. Mechanism: The attention mechanism works by computing a weighted sum of the elements in the input sequence, where the weights are dynamically determined based on the context of the current decoding step. In other words, it identifies which parts of the input sequence are most relevant for generating the current output.\n",
    "\n",
    "4. Calculation of Attention Weights: Attention weights are calculated by comparing the current state of the model (decoder) to each element in the input sequence. These comparisons are often performed using a similarity function, such as dot product or cosine similarity. The results are then transformed into probabilities using a softmax function, making them sum to 1.\n",
    "\n",
    "### Benefits:\n",
    "\n",
    "- Enhanced Performance: Attention mechanisms have significantly improved the performance of sequence-to-sequence models in various NLP tasks.\n",
    "- Handling Variable-Length Sequences: Attention allows the model to handle input sequences of variable length and generate output sequences of varying length.\n",
    "- Improved Interpretability: Attention mechanisms provide insights into which parts of the input data are influential in making specific predictions.\n",
    "\n",
    "\n",
    "A Seq2Seq (Sequence-to-Sequence) model is a type of neural network architecture designed for various natural language processing (NLP) tasks, including text summarization. The primary purpose of a Seq2Seq model is to transform input sequences into output sequences of varying lengths. In the context of text summarization, it's used to convert long articles or documents into shorter, coherent summaries. \n",
    "\n",
    "Here's an overview of the steps involved in preparing, building, and deploying a Seq2Seq model for encoder-decoder text summarization:\n",
    "\n",
    "\n",
    "###  Building the Seq2Seq Model - 3 Stacked LSTM\n",
    "\n",
    "Lets first have a look at a visual of how an LSTM model looks:\n",
    "\n",
    "![encoder_decoder](./images/enncoder_decoder.png)\n",
    "\n",
    "Some important terminologies\n",
    "\n",
    "- `Return Sequences = True`: When the return sequences parameter is set to True, LSTM produces the hidden state and cell state for every timestep\n",
    "- `Return State = True`: When return state = True, LSTM produces the hidden state and cell state of the last timestep only\n",
    "- `Initial State`: This is used to initialize the internal states of the LSTM for the first timestep\n",
    "- `latent_dim`: It denotes the number of hidden units.\n",
    "\n",
    "The model took over 2 hours to run and was done in google colab due to the high RAM demand. Here is a snapshot of the model summary:\n",
    "\n",
    "![model_summary_lstm](./images/seq2seq_model_summary.png)\n",
    "\n",
    "\n",
    "And here is a snapshot of the model being compiled:\n",
    "\n",
    "![model_compilation](./images/model_compilation.png)\n",
    "\n",
    "\n",
    "![loss_function](./images/loss_function.png)\n"
   ]
  },
  {
   "cell_type": "markdown",
   "metadata": {},
   "source": [
    "# Accessing the Notebook"
   ]
  },
  {
   "cell_type": "markdown",
   "metadata": {},
   "source": [
    "- Due to the absurdly high GPU demand, the RNN model was run in google colab with the help of GPU runtime. \n",
    "\n",
    "Access the notebook [here](https://colab.research.google.com/drive/11kJO7o52TKAnjS2fnDLYp4TWvwXJLRQ_?usp=sharing) and make a copy if you wish to use the notebook. \n",
    "\n",
    "\n",
    "\n",
    "\n",
    "***WARNING*** this notebook requires a high demand of RAM to run and likely will crash if you do not have RAM up to 40GB. Please just view the notebook if you do not have the processing power to do so."
   ]
  },
  {
   "cell_type": "markdown",
   "metadata": {},
   "source": [
    "# Results\n",
    "![lstm](./images/lstm_model_results.png)\n",
    "\n",
    "Original summary: around migrants trying to reach europe died when their boat capsized body of one migrant on another vessel was thrown to sharks stories emerged after more than crossed mediterranean at weekend \n",
    "\n",
    "Predicted summary: the year old is the in the league in the league the year old is the the the league in the league the year old is the the the league in the league\n",
    "\n",
    "Mean Rouge Score-l recall: 0.06058139110770686\n",
    "\n",
    "As you can see above, the model performed poorly, producing incoherent text that failed to provide any sort of summary to the article. The Rouge score indicates that there is virtually no overlap to the article. \n",
    "\n",
    "Unfortunately, the model performed as poorly on all the articles and will require some serious fine tuning for improvement. Due to time constraint, and the knowledge of so many state of the art premade models out there, I decided to pivot to what ends up being my final model. \n",
    "\n",
    "\n",
    "## Moving forward\n",
    "Since we do not forsee ourselves building a model that will match the \"state of the art\" models that are already built for this task, we will switch to a fine-tuned model that we can pull from huggingface. "
   ]
  },
  {
   "cell_type": "markdown",
   "metadata": {},
   "source": [
    "# Final Model - BART out of the box model\n",
    "\n",
    "Click [here](https://huggingface.co/facebook/bart-large-cnn) for the link to the BART model\n",
    "\n",
    "## BART (large-sized model), fine-tuned on CNN Daily Mail\n",
    "BART model pre-trained on English language, and fine-tuned on CNN Daily Mail. It was introduced in the paper BART: Denoising Sequence-to-Sequence Pre-training for Natural Language Generation, Translation, and Comprehension by Lewis et al. and first released in [this repository](https://github.com/pytorch/fairseq/tree/master/examples/bart).\n",
    "\n",
    "## Model description\n",
    "- BART is a transformer encoder-encoder (seq2seq) model with a bidirectional (BERT-like) encoder and an autoregressive (GPT-like) decoder. BART is pre-trained by \n",
    "- (1) corrupting text with an arbitrary noising function\n",
    "- (2) learning a model to reconstruct the original text.\n",
    "\n",
    "- BART is particularly effective when fine-tuned for text generation (e.g. summarization, translation) but also works well for comprehension tasks (e.g. text classification, question answering). This particular checkpoint has been fine-tuned on CNN Daily Mail, a large collection of text-summary pairs.\n"
   ]
  },
  {
   "cell_type": "markdown",
   "metadata": {},
   "source": [
    "#### Original Article\n",
    "\n",
    "A drunk teenage boy had to be rescued by security after jumping into a\n",
    "lions' enclosure at a zoo in western India.  Rahul Kumar, 17,\n",
    "clambered over the enclosure fence at the Kamla Nehru Zoological Park\n",
    "in Ahmedabad, and began running towards the animals, shouting he would\n",
    "'kill them'. Mr Kumar explained afterwards that he was drunk and\n",
    "'thought I'd stand a good chance' against the predators.  Next level\n",
    "drunk: Intoxicated Rahul Kumar, 17, climbed into the lions' enclosure\n",
    "at a zoo in Ahmedabad and began running towards the animals shouting\n",
    "'Today I kill a lion!'  Mr Kumar had been sitting near the enclosure\n",
    "when he suddenly made a dash for the lions, surprising zoo security.\n",
    "The intoxicated teenager ran towards the lions, shouting: 'Today I\n",
    "kill a lion or a lion kills me!'  A zoo spokesman said: 'Guards had\n",
    "earlier spotted him close to the enclosure but had no idea he was\n",
    "planing to enter it.  'Fortunately, there are eight moats to cross\n",
    "before getting to where the lions usually are and he fell into the\n",
    "second one, allowing guards to catch up with him and take him out.\n",
    "'We then handed him over to the police.'  Brave fool: Fortunately, Mr\n",
    "Kumar  fell into a moat as he ran towards the lions and could be\n",
    "rescued by zoo security staff before reaching the animals (stock\n",
    "image) Kumar later explained: 'I don't really know why I did it.  'I\n",
    "was drunk and thought I'd stand a good chance.'  A police spokesman\n",
    "said: 'He has been cautioned and will be sent for psychiatric\n",
    "evaluation.  'Fortunately for him, the lions were asleep and the zoo\n",
    "guards acted quickly enough to prevent a tragedy similar to that in\n",
    "Delhi.'  Last year a 20-year-old man was mauled to death by a tiger in\n",
    "the Indian capital after climbing into its enclosure at the city zoo.\n",
    "\n",
    "#### Summary\n",
    "\"Rahul Kumar, 17, clambered over enclosure fence at\\xa0Kamla Nehru Zoological Park. He ran towards the animals shouting 'Today I kill a lion or a lion kills me!' Fortunately, Mr Kumar fell into a moat and was rescued by zoo security. He has been cautioned and will be sent for psychiatric evaluation.\""
   ]
  },
  {
   "cell_type": "markdown",
   "metadata": {},
   "source": [
    "### Rouge Score: 0.6176470588235294"
   ]
  },
  {
   "cell_type": "markdown",
   "metadata": {
    "scrolled": false
   },
   "source": [
    "## Demonstrating model on six sample articles:\n",
    "\n",
    "### Article 1\n",
    "- **Predicted Summary:** \n",
    "U.S consumer advisory group set up by the Department of Transportation said that while the government is happy to set standards for animals flying on planes, it doesn't stipulate a minimum amount of space for humans. Tests conducted by the FAA use planes with a 31 inch pitch, a standard which on some airlines has decreased. Many economy seats on United Airlines have 30 inches of room, while some airlines offer as little as 28 inches.\n",
    "\n",
    "\n",
    "- **Reference Summary:** \n",
    "Experts question if  packed out planes are putting passengers at risk .\n",
    "U.S consumer advisory group says minimum space must be stipulated .\n",
    "Safety tests conducted on planes with more leg room than airlines offer .\n",
    "\n",
    "\n",
    "- ROUGE-L Score: 0.3939\n",
    "This summary does not closely match the reference summary in terms of content and structure. It provides some information about a U.S. consumer advisory group and issues with seat space on planes, but it lacks key details present in the reference summary. The ROUGE-L score is relatively low, indicating poor recall and overlap with the reference summary.\n",
    "\n",
    "### Article 2\n",
    "- **Predicted Summary:** \n",
    "Rahul Kumar, 17, clambered over enclosure fence at Kamla Nehru Zoological Park. He ran towards the animals shouting 'Today I kill a lion or a lion kills me!' Fortunately, Mr Kumar fell into a moat and was rescued by zoo security. He has been cautioned and will be sent for psychiatric evaluation. Last year a 20-year-old man was mauled to death by a tiger in Delhi.\n",
    "\n",
    "\n",
    "- **Reference Summary:** \n",
    "Drunk teenage boy climbed into lion enclosure at zoo in west India .\n",
    "Rahul Kumar, 17, ran towards animals shouting 'Today I kill a lion!'\n",
    "Fortunately he fell into a moat before reaching lions and was rescued .\n",
    "\n",
    "\n",
    "- ROUGE-L Score: 0.6471\n",
    "This summary is a better match to the reference summary, capturing the main incident involving a teenager at a zoo. The ROUGE-L score is relatively high, indicating good recall and overlap with the reference summary.\n",
    "\n",
    "\n",
    "### Article 3\n",
    "- **Predicted Summary:** \n",
    "Dougie Freedman is on the verge of agreeing a new two-year deal. Freedman has stabilised Forest since he replaced Stuart Pearce. Forest made an audacious attempt on the play-off places when Freedman replaced Pearce but have tailed off in recent weeks. That has not prevented Forest's ownership making moves to secure Freedman on a contract for the next two seasons.\n",
    "\n",
    "\n",
    "- **Reference Summary:** \n",
    "Nottingham Forest are close to extending Dougie Freedman's contract .\n",
    "The Forest boss took over from former manager Stuart Pearce in February .\n",
    "Freedman has since lead the club to ninth in the Championship .\n",
    "\n",
    "\n",
    "- ROUGE-L Score: 0.3929\n",
    "This summary provides information about Dougie Freedman's contract extension but lacks some of the key details from the reference summary. The ROUGE-L score is relatively low, indicating poor recall and overlap with the reference summary.\n",
    "\n",
    "### Article 4\n",
    "- **Predicted Summary:** \n",
    "Fiorentina goalkeeper Neto is wanted by a number of top European clubs, according to his agent Stefano Castagna. Liverpool were linked with a move for the 25-year-old earlier in the season when Simon Mignolet was dropped from the side. A January move for Neto never materialised but the former Atletico Paranaense keeper looks certain to leave the Florence-based club in the summer.\n",
    "\n",
    "\n",
    "- **Reference Summary:** \n",
    "Fiorentina goalkeeper Neto has been linked with Liverpool and Arsenal .\n",
    "Neto joined Firoentina from Brazilian outfit Atletico Paranaense in 2011 .\n",
    "He is also wanted by PSG and Spanish clubs, according to his agent .\n",
    "CLICK HERE for the latest Liverpool news .\n",
    "\n",
    "\n",
    "- ROUGE-L Score: 0.4865\n",
    "This summary captures the main idea of Fiorentina goalkeeper Neto being wanted by European clubs but is slightly different from the reference summary. The ROUGE-L score suggests reasonable recall and overlap with the reference summary.\n",
    "In summary, the model's performance varies across different examples. It performs reasonably well in some cases, closely matching the reference summary, but less accurately in others, leading to lower ROUGE-L scores. \n",
    "\n",
    "\n",
    "### Article 5\n",
    "- **Predicted Summary:** \n",
    "The former Olympian and reality TV star, 65, will speak in a 'far-ranging' interview with Sawyer for a special edition of '20/20' on Friday April 24. The interview comes amid growing speculation about the father-of-six's transition to a woman, and follows closely behind his involvement in a deadly car crash in California in February. Rumors started swirling around Jenner's gender identity last year, when he emerged from a Beverly Hills clinic with his Adam's apple shaved down. His behavior over the past year also fueled speculation as he began embracing an increasingly female appearance.\n",
    "\n",
    "\n",
    "- **Reference Summary:** \n",
    "Tell-all interview with the reality TV star, 69, will air on Friday April 24 .\n",
    "It comes amid continuing speculation about his transition to a woman and following his involvement in a deadly car crash in February .\n",
    "The interview will also be one of Diane Sawyer's first appearances on television following the sudden death of her husband last year .\n",
    "\n",
    "\n",
    "- ROUGE-L Score: 0.6122\n",
    "This summary discusses an upcoming interview with a reality TV star amid speculation about their transition to a woman. It also mentions their involvement in a deadly car crash. While the summary captures the main points, there are some differences from the reference summary, such as the age of the TV star. The ROUGE-L score suggests a reasonably good recall and overlap with the reference summary.\n",
    "\n",
    "### Article 6\n",
    "- **Predicted Summary:** \n",
    "The prize porker, known as Pigwig, had fallen into the pool in Ringwood, Hampshire. His owners had been taking him for a walk around the garden when the animal plunged into the water and was unable to get out. Two fire crews and a specialist animal rescue team had to use slide boards and strops to haul the huge black pig from the small pool. Firefighters were also called out to rescue a horse which fell into a pool in West Sussex.\n",
    "\n",
    "\n",
    "- **Reference Summary:** \n",
    "Giant pig fell into the swimming pool at his home in Ringwood, Hampshire .\n",
    "It took the efforts of a team of firefighters to winch him out of the water .\n",
    "A wayward horse also had to be rescued from a swimming pool in Sussex .\n",
    "\n",
    "\n",
    "- ROUGE-L Score: 0.5294\n",
    "This summary describes the rescue of a giant pig named Pigwig that fell into a swimming pool in Ringwood, Hampshire. It mentions the involvement of firefighters in rescuing both the pig and a horse that fell into a pool in Sussex. The summary provides a general overview of the events but lacks some details present in the reference summary. The ROUGE-L score suggests moderate recall and overlap with the reference summary\n",
    "\n",
    "### Try out the model!!\n",
    "\n",
    "The model can be run [here](https://huggingface.co/spaces/Andrewkoji/text_summarizer_app) by clicking the link and copy/pasting your article into the text box. Here is a quick example of how this would look:\n",
    "\n",
    "![demo](./images/summarizerdemo.png)\n",
    "\n",
    "\n",
    "### Conclusion\n",
    "Our Bart Model performed relatively well on the articles demonstrated above, showing solid results when marked against the reference summaries using the Rouge score. \n",
    "\n",
    "### Moving Forward\n",
    "The model may benefit from further training or fine-tuning to improve its summarization quality, especially for complex or nuanced content. Additionally, it's important to note that ROUGE scores are just one way to evaluate summarization quality, and human evaluation and context-specific criteria are often necessary for a comprehensive assessment of the model's performance.\n",
    "\n"
   ]
  },
  {
   "cell_type": "markdown",
   "metadata": {},
   "source": [
    "## Future Work\n",
    "\n",
    "In the future to build on this project, the following steps will be taken:\n",
    "- Fine tuning BART model to further improve performance\n",
    "- Further Developing a front end app to be used at scale by stakeholders"
   ]
  },
  {
   "cell_type": "markdown",
   "metadata": {},
   "source": [
    "# Contact Me\n",
    "\n",
    "Email - alevinton151@gmail.com\n",
    "\n",
    "Github - https://github.com/andrewkoji\n",
    "\n",
    "LinkedIn - https://www.linkedin.com/in/andrew-levinton-23603b22a/"
   ]
  },
  {
   "cell_type": "code",
   "execution_count": null,
   "metadata": {},
   "outputs": [],
   "source": []
  }
 ],
 "metadata": {
  "kernelspec": {
   "display_name": "Python 3 (ipykernel)",
   "language": "python",
   "name": "python3"
  },
  "language_info": {
   "codemirror_mode": {
    "name": "ipython",
    "version": 3
   },
   "file_extension": ".py",
   "mimetype": "text/x-python",
   "name": "python",
   "nbconvert_exporter": "python",
   "pygments_lexer": "ipython3",
   "version": "3.10.9"
  }
 },
 "nbformat": 4,
 "nbformat_minor": 4
}
